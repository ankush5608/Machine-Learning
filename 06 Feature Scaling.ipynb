{
 "cells": [
  {
   "cell_type": "markdown",
   "id": "adeb0439",
   "metadata": {},
   "source": [
    "# Feature Scaling"
   ]
  },
  {
   "cell_type": "markdown",
   "id": "fe32f2c7",
   "metadata": {},
   "source": [
    "We were not able to get the datset and hence could not code \n",
    "\n",
    "We put the link for the lab material and also the reference link"
   ]
  },
  {
   "cell_type": "markdown",
   "id": "75db0cb5",
   "metadata": {},
   "source": [
    "# Lab Material Link"
   ]
  },
  {
   "cell_type": "markdown",
   "id": "588b41e7",
   "metadata": {},
   "source": [
    "[Lab link](https://www.coursera.org/learn/machine-learning/ungradedLab/kIf25/optional-lab-feature-scaling-and-learning-rate/lab?path=%2Fnotebooks%2FC1_W2_Lab03_Feature_Scaling_and_Learning_Rate_Soln.ipynb)"
   ]
  },
  {
   "cell_type": "markdown",
   "id": "11531376",
   "metadata": {},
   "source": [
    "## Acknowledgments\n",
    "The housing data was derived from the [Ames Housing dataset](http://jse.amstat.org/v19n3/decock.pdf) compiled by Dean De Cock for use in data science education."
   ]
  }
 ],
 "metadata": {
  "kernelspec": {
   "display_name": "Python 3 (ipykernel)",
   "language": "python",
   "name": "python3"
  },
  "language_info": {
   "codemirror_mode": {
    "name": "ipython",
    "version": 3
   },
   "file_extension": ".py",
   "mimetype": "text/x-python",
   "name": "python",
   "nbconvert_exporter": "python",
   "pygments_lexer": "ipython3",
   "version": "3.9.13"
  }
 },
 "nbformat": 4,
 "nbformat_minor": 5
}
