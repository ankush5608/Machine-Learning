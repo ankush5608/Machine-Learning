{
 "cells": [
  {
   "cell_type": "markdown",
   "id": "dcd4500b",
   "metadata": {},
   "source": [
    "# Sigmoid Function / Logistic Function"
   ]
  },
  {
   "cell_type": "code",
   "execution_count": 1,
   "id": "6e3d9c51",
   "metadata": {},
   "outputs": [],
   "source": [
    "import numpy as np\n",
    "import matplotlib as plt"
   ]
  },
  {
   "cell_type": "markdown",
   "id": "1be4a2c3",
   "metadata": {},
   "source": [
    "## Sigmoid or Logistic Function\n",
    "For a classification task, we can start by using our linear regression model, $f_{\\mathbf{w},b}(\\mathbf{x}^{(i)}) = \\mathbf{w} \\cdot  \\mathbf{x}^{(i)} + b$, to predict $y$ given $x$. \n",
    "- However, we would like the predictions of our classification model to be between 0 and 1 since our output variable $y$ is either 0 or 1. \n",
    "- This can be accomplished by using a \"sigmoid function\" which maps all input values to values between 0 and 1. \n",
    "\n",
    "\n",
    "Let's implement the sigmoid function and see this for ourselves.\n",
    "\n",
    "## Formula for Sigmoid function\n",
    "\n",
    "The formula for a sigmoid function is as follows -  \n",
    "\n",
    "$g(z) = \\frac{1}{1+e^{-z}}\\tag{1}$\n",
    "\n",
    "In the case of logistic regression, z (the input to the sigmoid function), is the output of a linear regression model. \n",
    "- In the case of a single example, $z$ is scalar.\n",
    "- in the case of multiple examples, $z$ may be a vector consisting of $m$ values, one for each example. \n",
    "- The implementation of the sigmoid function should cover both of these potential input formats.\n",
    "Let's implement this in Python."
   ]
  },
  {
   "cell_type": "markdown",
   "id": "ec1de68d",
   "metadata": {},
   "source": [
    "NumPy has a function called [`exp()`](https://numpy.org/doc/stable/reference/generated/numpy.exp.html), which offers a convenient way to calculate the exponential ( $e^{z}$) of all elements in the input array (`z`).\n",
    " \n",
    "It also works with a single number as an input"
   ]
  },
  {
   "cell_type": "markdown",
   "id": "59a0a004",
   "metadata": {},
   "source": [
    "**Input as an array**"
   ]
  },
  {
   "cell_type": "code",
   "execution_count": 5,
   "id": "53b6ad43",
   "metadata": {},
   "outputs": [
    {
     "name": "stdout",
     "output_type": "stream",
     "text": [
      "Input array is [1 2 3]\n",
      "Exponential array is [ 2.71828183  7.3890561  20.08553692]\n"
     ]
    }
   ],
   "source": [
    "input_array=np.array([1,2,3])\n",
    "exp_array=np.exp(input_array)\n",
    "print(f\"Input array is {input_array}\")\n",
    "print(f\"Exponential array is {exp_array}\")"
   ]
  },
  {
   "cell_type": "markdown",
   "id": "294ac0f1",
   "metadata": {},
   "source": [
    "**Input as a number**"
   ]
  },
  {
   "cell_type": "code",
   "execution_count": 6,
   "id": "8249bc78",
   "metadata": {},
   "outputs": [
    {
     "name": "stdout",
     "output_type": "stream",
     "text": [
      "input=1\n",
      "exponent=2.718281828459045\n"
     ]
    }
   ],
   "source": [
    "inp=1\n",
    "exponen=np.exp(inp)\n",
    "print(f\"input={inp}\")\n",
    "print(f\"exponent={exponen}\")"
   ]
  },
  {
   "cell_type": "markdown",
   "id": "e2e5089e",
   "metadata": {},
   "source": [
    "**Sigmoid**"
   ]
  },
  {
   "cell_type": "code",
   "execution_count": 7,
   "id": "775aea87",
   "metadata": {},
   "outputs": [],
   "source": [
    "def sigmoid(z):\n",
    "    g=1/(1+np.exp(-z))\n",
    "    return g"
   ]
  },
  {
   "cell_type": "code",
   "execution_count": 9,
   "id": "7c08b3db",
   "metadata": {},
   "outputs": [
    {
     "name": "stdout",
     "output_type": "stream",
     "text": [
      "Input=[-10  -9  -8  -7  -6  -5  -4  -3  -2  -1   0   1   2   3   4   5   6   7\n",
      "   8   9  10]\n",
      "\n",
      "Sigmoid=[4.53978687e-05 1.23394576e-04 3.35350130e-04 9.11051194e-04\n",
      " 2.47262316e-03 6.69285092e-03 1.79862100e-02 4.74258732e-02\n",
      " 1.19202922e-01 2.68941421e-01 5.00000000e-01 7.31058579e-01\n",
      " 8.80797078e-01 9.52574127e-01 9.82013790e-01 9.93307149e-01\n",
      " 9.97527377e-01 9.99088949e-01 9.99664650e-01 9.99876605e-01\n",
      " 9.99954602e-01]\n"
     ]
    }
   ],
   "source": [
    "z_tmp=np.arange(-10,11)\n",
    "y=sigmoid(z_tmp)\n",
    "print(f\"Input={z_tmp}\")\n",
    "print(f\"\\nSigmoid={y}\")"
   ]
  },
  {
   "cell_type": "markdown",
   "id": "6c801724",
   "metadata": {},
   "source": [
    "We see that our output values of y ranges from 0 to 1 which is very helpful in classification "
   ]
  },
  {
   "cell_type": "code",
   "execution_count": null,
   "id": "a2ac5c38",
   "metadata": {},
   "outputs": [],
   "source": []
  }
 ],
 "metadata": {
  "kernelspec": {
   "display_name": "Python 3 (ipykernel)",
   "language": "python",
   "name": "python3"
  },
  "language_info": {
   "codemirror_mode": {
    "name": "ipython",
    "version": 3
   },
   "file_extension": ".py",
   "mimetype": "text/x-python",
   "name": "python",
   "nbconvert_exporter": "python",
   "pygments_lexer": "ipython3",
   "version": "3.9.13"
  }
 },
 "nbformat": 4,
 "nbformat_minor": 5
}
