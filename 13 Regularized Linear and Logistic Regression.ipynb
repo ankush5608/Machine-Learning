{
 "cells": [
  {
   "cell_type": "markdown",
   "id": "7383d143",
   "metadata": {},
   "source": [
    "# Regularized Linear and Logistic Regression"
   ]
  },
  {
   "cell_type": "code",
   "execution_count": 1,
   "id": "15f2f914",
   "metadata": {},
   "outputs": [],
   "source": [
    "import numpy as np\n",
    "import matplotlib.pyplot as plt"
   ]
  },
  {
   "cell_type": "markdown",
   "id": "79f415bc",
   "metadata": {},
   "source": [
    "## Cost Function For Regularized Linear Regression"
   ]
  },
  {
   "cell_type": "code",
   "execution_count": 8,
   "id": "f9a74bee",
   "metadata": {},
   "outputs": [],
   "source": [
    "def compute_linear_regression_cost(x,y,w,b,lambda_):\n",
    "    m,n = x.shape\n",
    "    cost=0\n",
    "    reg_cost=0\n",
    "    for i in range(m):\n",
    "        f_wb=np.dot(w,x[i])+b\n",
    "        err=(f_wb-y[i])**2\n",
    "        cost+=err\n",
    "    cost=cost/(2*m)\n",
    "    \n",
    "    for j in range(n):\n",
    "        reg_cost += (w[j])**2\n",
    "    reg_cost = reg_cost*(lambda_/(2*m))\n",
    "        \n",
    "    cost_final = cost + reg_cost\n",
    "    \n",
    "    return cost_final"
   ]
  },
  {
   "cell_type": "code",
   "execution_count": 9,
   "id": "e58ca10f",
   "metadata": {},
   "outputs": [
    {
     "name": "stdout",
     "output_type": "stream",
     "text": [
      "Regularized cost: 0.07917239320214275\n"
     ]
    }
   ],
   "source": [
    "np.random.seed(1)\n",
    "# We use np.random.seed to not change our random values generated whenever we re run the code\n",
    "X_tmp = np.random.rand(5,6)\n",
    "y_tmp = np.array([0,1,0,1,0])\n",
    "w_tmp = np.random.rand(X_tmp.shape[1]).reshape(-1,)-0.5\n",
    "b_tmp = 0.5\n",
    "lambda_tmp = 0.7\n",
    "cost_tmp = compute_linear_regression_cost(X_tmp, y_tmp, w_tmp, b_tmp, lambda_tmp)\n",
    "\n",
    "print(\"Regularized cost:\", cost_tmp)"
   ]
  },
  {
   "cell_type": "markdown",
   "id": "daa6138c",
   "metadata": {},
   "source": [
    "## Cost Function For Regularized Logistic Regression"
   ]
  },
  {
   "cell_type": "code",
   "execution_count": 4,
   "id": "ee67d922",
   "metadata": {},
   "outputs": [],
   "source": [
    "def sigmoid(z):\n",
    "    g_z=1/(1+np.exp(-z))\n",
    "    \n",
    "    return g_z"
   ]
  },
  {
   "cell_type": "code",
   "execution_count": 5,
   "id": "b3762ebc",
   "metadata": {},
   "outputs": [],
   "source": [
    "def compute_logistic_regression_cost(x,y,w,b,lambda_):\n",
    "    m,n=x.shape\n",
    "    cost=0\n",
    "    reg_cost=0\n",
    "    \n",
    "    for i in range(m):\n",
    "        f_wb = np.dot(w,x[i])+b\n",
    "        g_z = sigmoid(f_wb)\n",
    "        \n",
    "        cost += -y[i]*(np.log(g_z)) -(1-y[i])*np.log(1-g_z)\n",
    "        \n",
    "    cost=cost/m\n",
    "    \n",
    "    for j in range(n):\n",
    "        reg_cost += w[j]**2\n",
    "    \n",
    "    reg_cost=reg_cost*(lambda_/(2*m))\n",
    "    \n",
    "    cost_final = cost + reg_cost\n",
    "    \n",
    "    return cost_final"
   ]
  },
  {
   "cell_type": "code",
   "execution_count": 6,
   "id": "fbb18f03",
   "metadata": {},
   "outputs": [
    {
     "name": "stdout",
     "output_type": "stream",
     "text": [
      "Regularized cost: 0.6850849138741673\n"
     ]
    }
   ],
   "source": [
    "np.random.seed(1)\n",
    "X_tmp = np.random.rand(5,6)\n",
    "y_tmp = np.array([0,1,0,1,0])\n",
    "w_tmp = np.random.rand(X_tmp.shape[1]).reshape(-1,)-0.5\n",
    "b_tmp = 0.5\n",
    "lambda_tmp = 0.7\n",
    "cost_tmp = compute_logistic_regression_cost(X_tmp, y_tmp, w_tmp, b_tmp, lambda_tmp)\n",
    "\n",
    "print(\"Regularized cost:\", cost_tmp)"
   ]
  },
  {
   "cell_type": "markdown",
   "id": "e1911c0e",
   "metadata": {},
   "source": [
    "## Gradient descent with regularization\n",
    "The basic algorithm for running gradient descent does not change with regularization, it is:\n",
    "$$\\begin{align*}\n",
    "&\\text{repeat until convergence:} \\; \\lbrace \\\\\n",
    "&  \\; \\; \\;w_j = w_j -  \\alpha \\frac{\\partial J(\\mathbf{w},b)}{\\partial w_j}   \\; & \\text{for j := 0..n-1} \\\\ \n",
    "&  \\; \\; \\;  \\; \\;b = b -  \\alpha \\frac{\\partial J(\\mathbf{w},b)}{\\partial b} \\\\\n",
    "&\\rbrace\n",
    "\\end{align*}$$\n",
    "Where each iteration performs simultaneous updates on $w_j$ for all $j$.\n",
    "\n",
    "What changes with regularization is computing the gradients."
   ]
  },
  {
   "cell_type": "markdown",
   "id": "58c6c55b",
   "metadata": {},
   "source": [
    "### Gradient function for regularized linear regression"
   ]
  },
  {
   "cell_type": "code",
   "execution_count": 7,
   "id": "05aefe8a",
   "metadata": {},
   "outputs": [],
   "source": [
    "def compute_gradient_regularized_linear(x,y,w,b,lambda_):\n",
    "    m,n = x.shape\n",
    "    dj_dw = np.zeros((n,))\n",
    "    dj_db = 0\n",
    "    for i in range(m):\n",
    "        f_wb = np.dot(w,x[i]) + b\n",
    "        err = f_wb - y[i]\n",
    "        for j in range(n):\n",
    "            dj_dw[j] = dj_dw[j] + err*x[i,j]\n",
    "        \n",
    "        dj_db = dj_db + err\n",
    "    dj_dw = dj_dw/m\n",
    "    dj_db=dj_db/m\n",
    "        \n",
    "    for j in range(n):\n",
    "        dj_dw[j] = dj_dw[j] + (lambda_/m)*w[j]\n",
    "        \n",
    "    return dj_dw,dj_db"
   ]
  },
  {
   "cell_type": "code",
   "execution_count": 8,
   "id": "59510853",
   "metadata": {},
   "outputs": [
    {
     "name": "stdout",
     "output_type": "stream",
     "text": [
      "dj_db: 0.6648774569425726\n",
      "Regularized dj_dw:\n",
      " [0.29653214748822276, 0.4911679625918033, 0.21645877535865857]\n"
     ]
    }
   ],
   "source": [
    "np.random.seed(1)\n",
    "X_tmp = np.random.rand(5,3)\n",
    "y_tmp = np.array([0,1,0,1,0])\n",
    "w_tmp = np.random.rand(X_tmp.shape[1])\n",
    "b_tmp = 0.5\n",
    "lambda_tmp = 0.7\n",
    "dj_dw_tmp, dj_db_tmp =  compute_gradient_regularized_linear(X_tmp, y_tmp, w_tmp, b_tmp, lambda_tmp)\n",
    "\n",
    "print(f\"dj_db: {dj_db_tmp}\", )\n",
    "print(f\"Regularized dj_dw:\\n {dj_dw_tmp.tolist()}\", )"
   ]
  },
  {
   "cell_type": "markdown",
   "id": "f7f83e71",
   "metadata": {},
   "source": [
    "### Gradient function for regularized logicstic regression"
   ]
  },
  {
   "cell_type": "code",
   "execution_count": 9,
   "id": "9b7b0033",
   "metadata": {},
   "outputs": [],
   "source": [
    "def compute_gradient_regularized_logistic(x,y,w,b,lambda_):\n",
    "    m,n = x.shape\n",
    "    dj_dw = np.zeros(n)\n",
    "    dj_db = 0\n",
    "    for i in range(m):\n",
    "        f_wb = np.dot(w,x[i]) + b\n",
    "        g_z = sigmoid(f_wb)\n",
    "        err = g_z - y[i]\n",
    "        \n",
    "        for j in range(n):\n",
    "            dj_dw[j] = dj_dw[j] + err*x[i,j]\n",
    "        \n",
    "        dj_db = dj_db + err\n",
    "    \n",
    "    dj_dw = dj_dw/m\n",
    "    dj_db = dj_db/m\n",
    "    \n",
    "    for j in range(n):\n",
    "        dj_dw[j] = dj_dw[j] + (lambda_/m)*w[j]\n",
    "        \n",
    "    return dj_dw,dj_db"
   ]
  },
  {
   "cell_type": "code",
   "execution_count": 10,
   "id": "589c28c6",
   "metadata": {},
   "outputs": [
    {
     "name": "stdout",
     "output_type": "stream",
     "text": [
      "dj_db: 0.341798994972791\n",
      "Regularized dj_dw:\n",
      " [0.17380012933994293, 0.32007507881566943, 0.10776313396851499]\n"
     ]
    }
   ],
   "source": [
    "np.random.seed(1)\n",
    "X_tmp = np.random.rand(5,3)\n",
    "y_tmp = np.array([0,1,0,1,0])\n",
    "w_tmp = np.random.rand(X_tmp.shape[1])\n",
    "b_tmp = 0.5\n",
    "lambda_tmp = 0.7\n",
    "dj_dw_tmp, dj_db_tmp =  compute_gradient_regularized_logistic(X_tmp, y_tmp, w_tmp, b_tmp, lambda_tmp)\n",
    "\n",
    "print(f\"dj_db: {dj_db_tmp}\", )\n",
    "print(f\"Regularized dj_dw:\\n {dj_dw_tmp.tolist()}\", )"
   ]
  },
  {
   "cell_type": "code",
   "execution_count": null,
   "id": "4da2b28c",
   "metadata": {},
   "outputs": [],
   "source": []
  }
 ],
 "metadata": {
  "kernelspec": {
   "display_name": "Python 3 (ipykernel)",
   "language": "python",
   "name": "python3"
  },
  "language_info": {
   "codemirror_mode": {
    "name": "ipython",
    "version": 3
   },
   "file_extension": ".py",
   "mimetype": "text/x-python",
   "name": "python",
   "nbconvert_exporter": "python",
   "pygments_lexer": "ipython3",
   "version": "3.11.5"
  }
 },
 "nbformat": 4,
 "nbformat_minor": 5
}
