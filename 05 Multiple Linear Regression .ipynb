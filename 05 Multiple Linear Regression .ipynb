{
 "cells": [
  {
   "cell_type": "markdown",
   "id": "34280b88",
   "metadata": {},
   "source": [
    "# Multiple Linear Regresssion"
   ]
  },
  {
   "cell_type": "markdown",
   "id": "c022697c",
   "metadata": {},
   "source": [
    "<a name=\"toc_15456_2\"></a>\n",
    "#  Problem Statement\n",
    "\n",
    "The training dataset contains three examples with four features (size, bedrooms, floors and, age) shown in the table below.  \n",
    "\n",
    "| Size (sqft) | Number of Bedrooms  | Number of floors | Age of  Home | Price (1000s dollars)  |   \n",
    "| ----------------| ------------------- |----------------- |--------------|-------------- |  \n",
    "| 2104            | 5                   | 1                | 45           | 460           |  \n",
    "| 1416            | 3                   | 2                | 40           | 232           |  \n",
    "| 852             | 2                   | 1                | 35           | 178           |  \n",
    "\n",
    "Build a linear regression model using these values so you can then predict the price for other houses. For example, a house with 1200 sqft, 3 bedrooms, 1 floor, 40 years old.  "
   ]
  },
  {
   "cell_type": "code",
   "execution_count": 1,
   "id": "0b945f8d",
   "metadata": {},
   "outputs": [],
   "source": [
    "import numpy as np\n",
    "import math,copy\n",
    "import matplotlib.pyplot as plt"
   ]
  },
  {
   "cell_type": "code",
   "execution_count": 2,
   "id": "a39faa67",
   "metadata": {},
   "outputs": [
    {
     "name": "stdout",
     "output_type": "stream",
     "text": [
      "x_train:\n",
      "[[2104    5    1   45]\n",
      " [1416    3    2   40]\n",
      " [ 852    2    1   35]]\n",
      "x_train.shape=(3, 4) and type(x_train)=<class 'numpy.ndarray'>\n",
      "\n",
      "y_train:[460 232 178]\n",
      "y_train.shape=(3,) and type(y_train)=<class 'numpy.ndarray'>\n"
     ]
    }
   ],
   "source": [
    "x_train=np.array([[2104,5,1,45],[1416,3,2,40],[852,2,1,35]])\n",
    "y_train=np.array([460,232,178])\n",
    "print(f\"x_train:\\n{x_train}\")\n",
    "print(f\"x_train.shape={x_train.shape} and type(x_train)={type(x_train)}\")\n",
    "print(f\"\\ny_train:{y_train}\")\n",
    "print(f\"y_train.shape={y_train.shape} and type(y_train)={type(y_train)}\")"
   ]
  },
  {
   "cell_type": "markdown",
   "id": "c466cb3e",
   "metadata": {},
   "source": [
    "For demonstration,  𝐰\n",
    "  and  𝑏\n",
    "  will be loaded with some initial selected values that are near the optimal.  𝐰\n",
    "  is a 1-D NumPy vector."
   ]
  },
  {
   "cell_type": "code",
   "execution_count": 3,
   "id": "9508740b",
   "metadata": {},
   "outputs": [
    {
     "name": "stdout",
     "output_type": "stream",
     "text": [
      "w_init shape: (4,), b_init type: <class 'float'>\n"
     ]
    }
   ],
   "source": [
    "b_init = 785.1811367994083\n",
    "w_init = np.array([ 0.39133535, 18.75376741, -53.36032453, -26.42131618])\n",
    "print(f\"w_init shape: {w_init.shape}, b_init type: {type(b_init)}\")"
   ]
  },
  {
   "cell_type": "markdown",
   "id": "c486ec08",
   "metadata": {},
   "source": [
    "# Predicting without vectorization\n"
   ]
  },
  {
   "cell_type": "code",
   "execution_count": 4,
   "id": "350f1bd5",
   "metadata": {},
   "outputs": [],
   "source": [
    "def predict_single_loop(w,b,x):\n",
    "    n=x.shape[0]\n",
    "    f_wb=0\n",
    "    for i in range(n):\n",
    "        f_wb_i=w[i]*x[i]\n",
    "        f_wb=f_wb+f_wb_i\n",
    "    f_wb=f_wb+b\n",
    "    return f_wb"
   ]
  },
  {
   "cell_type": "markdown",
   "id": "1a86f9ac",
   "metadata": {},
   "source": [
    "Using above prediction lets give the model with input as first row of x_train and then compare the prediction with true value"
   ]
  },
  {
   "cell_type": "code",
   "execution_count": 5,
   "id": "12930b01",
   "metadata": {},
   "outputs": [
    {
     "name": "stdout",
     "output_type": "stream",
     "text": [
      "the shape of x_vect = (4,) and x_vect value = [2104    5    1   45]\n",
      "The prediction for the first row of x_train is 459.9999976194083\n"
     ]
    }
   ],
   "source": [
    "x_vect=x_train[0,:]\n",
    "prediction=predict_single_loop(w_init,b_init,x_vect)\n",
    "print(f\"the shape of x_vect = {x_vect.shape} and x_vect value = {x_vect}\")\n",
    "print(f\"The prediction for the first row of x_train is {prediction}\")"
   ]
  },
  {
   "cell_type": "markdown",
   "id": "1a69fbef",
   "metadata": {},
   "source": [
    "Thus if we compare this with the first row output which is 460 then we can say that our prediction is accurate for that data"
   ]
  },
  {
   "cell_type": "markdown",
   "id": "4e853f58",
   "metadata": {},
   "source": [
    "# Predicting with vectorization"
   ]
  },
  {
   "cell_type": "markdown",
   "id": "6346a947",
   "metadata": {},
   "source": [
    "Using the concept of vectorization for faster and simpler calculation"
   ]
  },
  {
   "cell_type": "code",
   "execution_count": 6,
   "id": "efa54642",
   "metadata": {},
   "outputs": [],
   "source": [
    "def predict(w,b,x):\n",
    "    f_wb=np.dot(w,x)+b\n",
    "    \n",
    "    return f_wb"
   ]
  },
  {
   "cell_type": "code",
   "execution_count": 7,
   "id": "c46e1bfa",
   "metadata": {},
   "outputs": [
    {
     "name": "stdout",
     "output_type": "stream",
     "text": [
      "the shape of x_vect = (4,) and x_vect value = [2104    5    1   45]\n",
      "The prediction for the first row of x_train is 459.9999976194082\n"
     ]
    }
   ],
   "source": [
    "x_vect=x_train[0,:]\n",
    "prediction=predict(w_init,b_init,x_vect)\n",
    "print(f\"the shape of x_vect = {x_vect.shape} and x_vect value = {x_vect}\")\n",
    "print(f\"The prediction for the first row of x_train is {prediction}\")"
   ]
  },
  {
   "cell_type": "markdown",
   "id": "c01dc82a",
   "metadata": {},
   "source": [
    "Thus we get the same results for both with and without vectorization where vectorization fastens calculation and also reduce the number of lines of code"
   ]
  },
  {
   "cell_type": "markdown",
   "id": "5f20f386",
   "metadata": {},
   "source": [
    "# Cost Function for Multiple Variables"
   ]
  },
  {
   "cell_type": "code",
   "execution_count": 8,
   "id": "acb84c75",
   "metadata": {},
   "outputs": [],
   "source": [
    "def compute_cost(w,b,x,y):\n",
    "    m=x.shape[0]\n",
    "    cost_sum=0\n",
    "    for i in range(m):\n",
    "        f_wb=np.dot(w,x[i])+b\n",
    "        cost_sum=cost_sum+(f_wb-y[i])**2\n",
    "    final_cost=cost_sum/(2*m)\n",
    "    return final_cost"
   ]
  },
  {
   "cell_type": "code",
   "execution_count": 9,
   "id": "b004216a",
   "metadata": {},
   "outputs": [
    {
     "name": "stdout",
     "output_type": "stream",
     "text": [
      "Cost at optimal values of w is 1.5578904330213735e-12\n"
     ]
    }
   ],
   "source": [
    "predic_cost=compute_cost(w_init,b_init,x_train,y_train)\n",
    "print(f\"Cost at optimal values of w is {predic_cost}\")"
   ]
  },
  {
   "cell_type": "markdown",
   "id": "54e6ce5e",
   "metadata": {},
   "source": [
    "# Gradient Descent for Multiple Variables"
   ]
  },
  {
   "cell_type": "markdown",
   "id": "aab1b11e",
   "metadata": {},
   "source": [
    "As it is multiple variables the w vector will have many many weights in it and we would need to find optimal weights for all w's\n",
    "and hence dj_dw will also have vector of values unlike for single variable and dj_db will remain same"
   ]
  },
  {
   "cell_type": "code",
   "execution_count": 10,
   "id": "eb3b207a",
   "metadata": {},
   "outputs": [],
   "source": [
    "def compute_gradient(w,b,x,y):\n",
    "    m,n = x.shape              #(number of examples, number of features)\n",
    "    dj_db=0\n",
    "    dj_dw=np.zeros((n,))\n",
    "    for i in range(m):\n",
    "        f_wb=np.dot(w,x[i])+b\n",
    "        err=(f_wb-y[i])\n",
    "        for j in range(n):\n",
    "            dj_dw[j]=dj_dw[j]+ err*x[i,j]\n",
    "        dj_db=dj_db+err  \n",
    "        \n",
    "    dj_dw=dj_dw/m\n",
    "    dj_db=dj_db/m\n",
    "    return dj_dw,dj_db\n",
    "\n",
    "\n",
    "                              \n",
    "        "
   ]
  },
  {
   "cell_type": "code",
   "execution_count": 11,
   "id": "039b0f47",
   "metadata": {},
   "outputs": [
    {
     "name": "stdout",
     "output_type": "stream",
     "text": [
      "dj_dw at initial w,b: [-2.72623577e-03 -6.27197263e-06 -2.21745571e-06 -6.92403379e-05]\n",
      "dj_db at initial w,b: -1.6739251122999121e-06\n"
     ]
    }
   ],
   "source": [
    "#Compute and display gradient \n",
    "tmp_dj_dw, tmp_dj_db = compute_gradient(w_init, b_init,x_train, y_train)\n",
    "print(f'dj_dw at initial w,b: {tmp_dj_dw}')\n",
    "print(f'dj_db at initial w,b: {tmp_dj_db}')"
   ]
  },
  {
   "cell_type": "code",
   "execution_count": 12,
   "id": "7315d67f",
   "metadata": {},
   "outputs": [],
   "source": [
    "def gradient_descent(w,b,x,y,num_of_iters,alpha):\n",
    "    j_history=[]\n",
    "    for i in range(num_of_iters):\n",
    "        dj_dw,dj_db=compute_gradient(w,b,x,y)\n",
    "        b=b-alpha*dj_db\n",
    "        w=w-alpha*dj_dw\n",
    "        \n",
    "        if (i<100000):\n",
    "            j_history.append(compute_cost(w,b,x,y))\n",
    "            \n",
    "            \n",
    "        if i%math.ceil(num_of_iters/10)==0:\n",
    "            print(f\"cost: {j_history[-1]} w={w} and b={b}\")\n",
    "    \n",
    "    return w,b,j_history"
   ]
  },
  {
   "cell_type": "code",
   "execution_count": 13,
   "id": "7aa86770",
   "metadata": {},
   "outputs": [
    {
     "name": "stdout",
     "output_type": "stream",
     "text": [
      "cost: 2529.4629522316304 w=[2.41334667e-01 5.58666667e-04 1.83666667e-04 6.03500000e-03] and b=0.000145\n",
      "cost: 695.990315835203 w=[ 0.20235171  0.00079796 -0.00099658 -0.00219736] and b=-0.00011985961877688924\n",
      "cost: 694.9206979323068 w=[ 0.20253446  0.00112715 -0.00214349 -0.00940619] and b=-0.00035965781839536297\n",
      "cost: 693.8604297851197 w=[ 0.2027164   0.00145611 -0.00328876 -0.01658286] and b=-0.0005983240279392167\n",
      "cost: 692.8094286135905 w=[ 0.20289753  0.00178484 -0.00443238 -0.02372751] and b=-0.0008358632706869378\n",
      "cost: 691.767612370606 w=[ 0.20307785  0.00211335 -0.00557437 -0.03084027] and b=-0.0010722805476294606\n",
      "cost: 690.7348997354993 w=[ 0.20325736  0.00244162 -0.00671473 -0.0379213 ] and b=-0.0013075808375690539\n",
      "cost: 689.7112101076159 w=[ 0.20343608  0.00276967 -0.00785347 -0.04497072] and b=-0.0015417690972177685\n",
      "cost: 688.6964635999458 w=[ 0.20361399  0.00309749 -0.00899059 -0.05198869] and b=-0.0017748502612954446\n",
      "cost: 687.690581032794 w=[ 0.20379112  0.00342509 -0.01012611 -0.05897533] and b=-0.002006829242627296\n",
      "final_w=[ 0.20396569  0.00374919 -0.0112487  -0.0658614 ] and final_b=-0.0022354075309325345 with cost=686.7034116665205\n"
     ]
    }
   ],
   "source": [
    "initial_w=np.zeros_like(w_init)\n",
    "initial_b=0\n",
    "alpha=5.0e-07\n",
    "itterations=1000\n",
    "final_w,final_b,j_hist=gradient_descent(initial_w,initial_b,x_train,y_train,itterations,alpha)\n",
    "print(f\"final_w={final_w} and final_b={final_b} with cost={j_hist[-1]}\")\n"
   ]
  },
  {
   "cell_type": "markdown",
   "id": "b4bceb55",
   "metadata": {},
   "source": [
    "Now lets compare our model's  prdeiction with true values"
   ]
  },
  {
   "cell_type": "code",
   "execution_count": 15,
   "id": "a690e784",
   "metadata": {},
   "outputs": [
    {
     "name": "stdout",
     "output_type": "stream",
     "text": [
      "prediction\t True value \n",
      "426.18530497189204\t 460\n",
      "286.1674720078562\t 232\n",
      "171.46763087132317\t 178\n"
     ]
    }
   ],
   "source": [
    "m=x_train.shape[0]\n",
    "print(\"prediction\\t True value \")\n",
    "for i in range(m):\n",
    "    predic=np.dot(final_w,x_train[i])+final_b\n",
    "    print(f\"{predic}\\t {y_train[i]}\")"
   ]
  },
  {
   "cell_type": "code",
   "execution_count": null,
   "id": "61026bd5",
   "metadata": {},
   "outputs": [],
   "source": []
  }
 ],
 "metadata": {
  "kernelspec": {
   "display_name": "Python 3 (ipykernel)",
   "language": "python",
   "name": "python3"
  },
  "language_info": {
   "codemirror_mode": {
    "name": "ipython",
    "version": 3
   },
   "file_extension": ".py",
   "mimetype": "text/x-python",
   "name": "python",
   "nbconvert_exporter": "python",
   "pygments_lexer": "ipython3",
   "version": "3.9.13"
  }
 },
 "nbformat": 4,
 "nbformat_minor": 5
}
