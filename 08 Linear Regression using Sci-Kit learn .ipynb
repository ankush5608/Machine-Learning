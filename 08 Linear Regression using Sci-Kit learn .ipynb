{
 "cells": [
  {
   "cell_type": "markdown",
   "id": "0631bf6b",
   "metadata": {},
   "source": [
    "# Linear Regression using Sci-Kit learn"
   ]
  },
  {
   "cell_type": "markdown",
   "id": "b88627f8",
   "metadata": {},
   "source": [
    "Sci-kit learn is a machine learning library which contains all the functions and algoritms required for Machine Learning"
   ]
  },
  {
   "cell_type": "code",
   "execution_count": 3,
   "id": "d79c454a",
   "metadata": {},
   "outputs": [],
   "source": [
    "import numpy as np\n",
    "import matplotlib.pyplot as plt\n",
    "from sklearn.linear_model import SGDRegressor       # Functions in Scikit learn\n",
    "from sklearn.preprocessing import StandardScaler    # Functions in Scikit learn"
   ]
  },
  {
   "cell_type": "markdown",
   "id": "df05d93f",
   "metadata": {},
   "source": [
    "# Gradient Descent\n",
    "Scikit-learn has a gradient descent regression model [sklearn.linear_model.SGDRegressor](https://scikit-learn.org/stable/modules/generated/sklearn.linear_model.SGDRegressor.html#examples-using-sklearn-linear-model-sgdregressor).  Like your previous implementation of gradient descent, this model performs best with normalized inputs. [sklearn.preprocessing.StandardScaler](https://scikit-learn.org/stable/modules/generated/sklearn.preprocessing.StandardScaler.html#sklearn.preprocessing.StandardScaler) will perform z-score normalization as in a previous lab. Here it is referred to as 'standard score'."
   ]
  },
  {
   "cell_type": "code",
   "execution_count": 4,
   "id": "1fe5e7c1",
   "metadata": {},
   "outputs": [],
   "source": [
    "x_train=np.array([[2104,5,1,45],[1416,3,2,40],[852,2,1,35]])\n",
    "y_train=np.array([460,232,178])"
   ]
  },
  {
   "cell_type": "markdown",
   "id": "29089699",
   "metadata": {},
   "source": [
    "# Scaling/Normalizing"
   ]
  },
  {
   "cell_type": "code",
   "execution_count": 9,
   "id": "50a95583",
   "metadata": {},
   "outputs": [
    {
     "name": "stdout",
     "output_type": "stream",
     "text": [
      "Peak to peak value by column before normalization X:[1252    3    1   10]\n",
      "Peak to peak value by column after normalization X:[2.44549494 2.40535118 2.12132034 2.44948974]\n"
     ]
    }
   ],
   "source": [
    "scaler=StandardScaler()\n",
    "X_norm=scaler.fit_transform(x_train)\n",
    "print(f\"Peak to peak value by column before normalization X:{np.ptp(x_train,axis=0)}\")\n",
    "print(f\"Peak to peak value by column after normalization X:{np.ptp(X_norm,axis=0)}\")"
   ]
  },
  {
   "cell_type": "markdown",
   "id": "44074016",
   "metadata": {},
   "source": [
    "# Create and fit Regression Model"
   ]
  },
  {
   "cell_type": "code",
   "execution_count": 11,
   "id": "1bc5f4f4",
   "metadata": {},
   "outputs": [
    {
     "name": "stdout",
     "output_type": "stream",
     "text": [
      "SGDRegressor(max_iter=10000)\n",
      "number of iterations completed: 1239 and number of weights updated: 3718.0\n"
     ]
    }
   ],
   "source": [
    "sgdr=SGDRegressor(max_iter=10000)\n",
    "sgdr.fit(X_norm,y_train)\n",
    "print(sgdr)\n",
    "print(f\"number of iterations completed: {sgdr.n_iter_} and number of weights updated: {sgdr.t_}\")"
   ]
  },
  {
   "cell_type": "markdown",
   "id": "9dce1786",
   "metadata": {},
   "source": [
    "# View Parameters"
   ]
  },
  {
   "cell_type": "code",
   "execution_count": 13,
   "id": "91ef8ef5",
   "metadata": {},
   "outputs": [
    {
     "name": "stdout",
     "output_type": "stream",
     "text": [
      "Model Parameters: \n",
      " w=[ 38.05284259  41.53878889 -30.94608744  36.34545478] and b=[289.50468912]\n"
     ]
    }
   ],
   "source": [
    "b_norm=sgdr.intercept_\n",
    "w_norm=sgdr.coef_\n",
    "print(f\"Model Parameters: \\n w={w_norm} and b={b_norm}\")"
   ]
  },
  {
   "cell_type": "markdown",
   "id": "93de61c0",
   "metadata": {},
   "source": [
    "# Predict values"
   ]
  },
  {
   "cell_type": "code",
   "execution_count": 16,
   "id": "c4e0af14",
   "metadata": {},
   "outputs": [
    {
     "name": "stdout",
     "output_type": "stream",
     "text": [
      "Prediction using np.dot() and sgdr.predict match: [ True  True  True]\n",
      "Prediction on training set: [459.47444694 231.5664008  177.47321963]\n",
      "Target values: [460 232 178]\n"
     ]
    }
   ],
   "source": [
    "# Make a prediction using sgdr.predict()\n",
    "y_pred_sgdr=sgdr.predict(X_norm)\n",
    "# Make a prediction using w,b\n",
    "y_pred=np.dot(X_norm,w_norm)+b_norm\n",
    "\n",
    "print(f\"Prediction using np.dot() and sgdr.predict match: {y_pred==y_pred_sgdr}\")\n",
    "\n",
    "print(f\"Prediction on training set: {y_pred}\")\n",
    "print(f\"Target values: {y_train}\")"
   ]
  },
  {
   "cell_type": "markdown",
   "id": "cdba8d2e",
   "metadata": {},
   "source": [
    "Thus we see that sklearn library provides functions to reduce the code complexity and give the desired results"
   ]
  },
  {
   "cell_type": "code",
   "execution_count": null,
   "id": "e579a68c",
   "metadata": {},
   "outputs": [],
   "source": []
  }
 ],
 "metadata": {
  "kernelspec": {
   "display_name": "Python 3 (ipykernel)",
   "language": "python",
   "name": "python3"
  },
  "language_info": {
   "codemirror_mode": {
    "name": "ipython",
    "version": 3
   },
   "file_extension": ".py",
   "mimetype": "text/x-python",
   "name": "python",
   "nbconvert_exporter": "python",
   "pygments_lexer": "ipython3",
   "version": "3.9.13"
  }
 },
 "nbformat": 4,
 "nbformat_minor": 5
}
