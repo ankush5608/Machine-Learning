{
 "cells": [
  {
   "cell_type": "markdown",
   "id": "8f0f1c3e",
   "metadata": {},
   "source": [
    "# This is about basic NumPy and Vectorization"
   ]
  },
  {
   "cell_type": "code",
   "execution_count": 1,
   "id": "ab332f5d",
   "metadata": {},
   "outputs": [],
   "source": [
    "import numpy as np\n",
    "import time"
   ]
  },
  {
   "cell_type": "markdown",
   "id": "5ace8d9b",
   "metadata": {},
   "source": [
    "Creation of Numpy array with random and zero values"
   ]
  },
  {
   "cell_type": "code",
   "execution_count": 2,
   "id": "11ff03d4",
   "metadata": {},
   "outputs": [
    {
     "name": "stdout",
     "output_type": "stream",
     "text": [
      "a=[0. 0. 0. 0.] shape is (4,) and data type is float64\n",
      "b=[0. 0. 0. 0.] shape is (4,) and data type is float64\n",
      "c=[[0.62581877 0.69009524]\n",
      " [0.87984561 0.03797035]\n",
      " [0.58753236 0.78857541]\n",
      " [0.72861512 0.17446487]] shape is (4, 2) and data type is float64\n"
     ]
    }
   ],
   "source": [
    "a=np.zeros(4)\n",
    "print(f\"a={a} shape is {a.shape} and data type is {a.dtype}\")\n",
    "\n",
    "b=np.zeros(4,)\n",
    "print(f\"b={b} shape is {b.shape} and data type is {b.dtype}\")\n",
    "\n",
    "c=np.random.rand(4,2)\n",
    "print(f\"c={c} shape is {c.shape} and data type is {c.dtype}\")"
   ]
  },
  {
   "cell_type": "markdown",
   "id": "78442dce",
   "metadata": {},
   "source": [
    "Creation of array using range function to be in specific range"
   ]
  },
  {
   "cell_type": "code",
   "execution_count": 3,
   "id": "00d4700c",
   "metadata": {},
   "outputs": [
    {
     "name": "stdout",
     "output_type": "stream",
     "text": [
      "a=[ 5  7  9 11 13]\n"
     ]
    }
   ],
   "source": [
    "a=np.arange(5,15,2)\n",
    "print(f\"a={a}\")"
   ]
  },
  {
   "cell_type": "code",
   "execution_count": 4,
   "id": "9d495825",
   "metadata": {},
   "outputs": [
    {
     "name": "stdout",
     "output_type": "stream",
     "text": [
      "a=[ 5.  1.  2. 30.] shape is (4,) and data type is float64\n"
     ]
    }
   ],
   "source": [
    "a=np.array([5.,1,2,30])\n",
    "print(f\"a={a} shape is {a.shape} and data type is {a.dtype}\")"
   ]
  },
  {
   "cell_type": "markdown",
   "id": "e55469d4",
   "metadata": {},
   "source": [
    "so even if one element is floating point value the entire array is floating point values"
   ]
  },
  {
   "cell_type": "markdown",
   "id": "56215af4",
   "metadata": {},
   "source": [
    "# Indexing"
   ]
  },
  {
   "cell_type": "markdown",
   "id": "7f9113dd",
   "metadata": {},
   "source": [
    "Indexing in python starts with 0"
   ]
  },
  {
   "cell_type": "code",
   "execution_count": 5,
   "id": "5b81962c",
   "metadata": {},
   "outputs": [
    {
     "name": "stdout",
     "output_type": "stream",
     "text": [
      "[0 1 2 3 4 5 6 7 8 9]\n",
      "a[2].shape=() and a2=2\n",
      "a[-1]=9\n",
      "index 10 is out of bounds for axis 0 with size 10\n"
     ]
    }
   ],
   "source": [
    "a=np.arange(10)\n",
    "print(a)\n",
    "\n",
    "# To acess the elements we use the index\n",
    "print(f\"a[2].shape={a[2].shape} and a2={a[2]}\")\n",
    "\n",
    "# To get or acess the last element we use index as -1\n",
    "print(f\"a[-1]={a[-1]}\")\n",
    "\n",
    "# We can only acess those elements which are within the range \n",
    "# here the last element index is 9 so even if we use 10 it will throw error\n",
    "try:\n",
    "    c=a[10]\n",
    "except Exception as e:\n",
    "    print(e)"
   ]
  },
  {
   "cell_type": "markdown",
   "id": "57a6a8bc",
   "metadata": {},
   "source": [
    "# Slicing"
   ]
  },
  {
   "cell_type": "code",
   "execution_count": 6,
   "id": "f32d9fef",
   "metadata": {},
   "outputs": [
    {
     "name": "stdout",
     "output_type": "stream",
     "text": [
      "[0 1 2 3 4 5 6 7 8 9]\n",
      "a[2:7:1]=[2 3 4 5 6]\n",
      "a[2:7:2]=[2 4 6]\n",
      "a[3:]=[3 4 5 6 7 8 9]\n",
      "a[:3]=[0 1 2]\n",
      "a[:]=[0 1 2 3 4 5 6 7 8 9]\n"
     ]
    }
   ],
   "source": [
    "a=np.arange(10)\n",
    "print(a)\n",
    "print(f\"a[2:7:1]={a[2:7:1]}\")\n",
    "print(f\"a[2:7:2]={a[2:7:2]}\")\n",
    "print(f\"a[3:]={a[3:]}\")\n",
    "print(f\"a[:3]={a[:3]}\")\n",
    "print(f\"a[:]={a[:]}\")"
   ]
  },
  {
   "cell_type": "markdown",
   "id": "fdc9f280",
   "metadata": {},
   "source": [
    "# Single Vector Operations"
   ]
  },
  {
   "cell_type": "code",
   "execution_count": 7,
   "id": "51ffe8c5",
   "metadata": {},
   "outputs": [
    {
     "name": "stdout",
     "output_type": "stream",
     "text": [
      "a=[1 2 3 4]\n",
      "-a=[-1 -2 -3 -4]\n",
      "np.sum(a)=10\n",
      "np.mean(a)=2.5\n",
      "a**2=[ 1  4  9 16]\n"
     ]
    }
   ],
   "source": [
    "a=np.array([1,2,3,4])\n",
    "print(f\"a={a}\")\n",
    "print(f\"-a={-a}\")\n",
    "print(f\"np.sum(a)={np.sum(a)}\")\n",
    "print(f\"np.mean(a)={np.mean(a)}\")\n",
    "print(f\"a**2={a**2}\")"
   ]
  },
  {
   "cell_type": "markdown",
   "id": "308d153c",
   "metadata": {},
   "source": [
    "# Vector-Vector Element wise operation"
   ]
  },
  {
   "cell_type": "markdown",
   "id": "e8a6453b",
   "metadata": {},
   "source": [
    "We can add and subtract the vectors only of same order"
   ]
  },
  {
   "cell_type": "code",
   "execution_count": 8,
   "id": "be8f0613",
   "metadata": {},
   "outputs": [
    {
     "name": "stdout",
     "output_type": "stream",
     "text": [
      "Binary operator works element wise a+b=[0 0 6 8]\n"
     ]
    }
   ],
   "source": [
    "a=np.array([1,2,3,4])\n",
    "b=np.array([-1,-2,3,4])\n",
    "print(f\"Binary operator works element wise a+b={a+b}\")"
   ]
  },
  {
   "cell_type": "code",
   "execution_count": 10,
   "id": "ae3ced0f",
   "metadata": {},
   "outputs": [
    {
     "name": "stdout",
     "output_type": "stream",
     "text": [
      "operands could not be broadcast together with shapes (2,) (4,) \n"
     ]
    }
   ],
   "source": [
    "# We cannot add/subtract vectors with different order\n",
    "c=np.array([1,2])\n",
    "try:\n",
    "    d=c+a\n",
    "except Exception as e:\n",
    "    print(e)"
   ]
  },
  {
   "cell_type": "markdown",
   "id": "ed4829d6",
   "metadata": {},
   "source": [
    "# Scalar Vector Operations "
   ]
  },
  {
   "cell_type": "code",
   "execution_count": 11,
   "id": "015a15ff",
   "metadata": {},
   "outputs": [
    {
     "name": "stdout",
     "output_type": "stream",
     "text": [
      "5*a=[ 5 10 15 20]\n"
     ]
    }
   ],
   "source": [
    "a=np.array([1,2,3,4])\n",
    "print(f\"5*a={5*a}\")"
   ]
  },
  {
   "cell_type": "markdown",
   "id": "df5bd950",
   "metadata": {},
   "source": [
    "# Dot Product"
   ]
  },
  {
   "cell_type": "markdown",
   "id": "19522319",
   "metadata": {},
   "source": [
    "(i) Using For Loop"
   ]
  },
  {
   "cell_type": "code",
   "execution_count": 12,
   "id": "34adbb00",
   "metadata": {},
   "outputs": [],
   "source": [
    "def dot(a,b):\n",
    "    s=0\n",
    "    for i in range(a.shape[0]):\n",
    "        s=s+a[i]*b[i]\n",
    "    return s"
   ]
  },
  {
   "cell_type": "code",
   "execution_count": 13,
   "id": "f9c4ed50",
   "metadata": {},
   "outputs": [
    {
     "name": "stdout",
     "output_type": "stream",
     "text": [
      "a.b=20\n"
     ]
    }
   ],
   "source": [
    "a=np.array([1,2,3,4])\n",
    "b=np.array([4,3,2,1])\n",
    "print(f\"a.b={dot(a,b)}\")"
   ]
  },
  {
   "cell_type": "markdown",
   "id": "479a1c4c",
   "metadata": {},
   "source": [
    "dot product is commutative meaning a.b=b.a \n",
    "\n",
    "Also to note that the shape of a scalar value is empty () Eg: dt products shape"
   ]
  },
  {
   "cell_type": "markdown",
   "id": "2d98ed99",
   "metadata": {},
   "source": [
    "# Time Comparision between Vector method and Loop method"
   ]
  },
  {
   "cell_type": "code",
   "execution_count": 21,
   "id": "2b86a032",
   "metadata": {},
   "outputs": [
    {
     "name": "stdout",
     "output_type": "stream",
     "text": [
      "Dot product is 25104.5636\n",
      "The time taken by vectorization is 1.0192 ms\n",
      "Dot product is 25104.5636\n",
      "The time taken by Loop method is 29.8972 ms\n"
     ]
    }
   ],
   "source": [
    "# Lets take huge arrays for comparision\n",
    "a=np.random.rand(100000)\n",
    "b=np.random.rand(100000)\n",
    "\n",
    "# 1. Using Vector method\n",
    "tic=time.time()  # Start time\n",
    "c=np.dot(a,b)\n",
    "toc=time.time()  # Stop time\n",
    "\n",
    "print(f\"Dot product is {c:.4f}\")\n",
    "print(f\"The time taken by vectorization is {1000*(toc-tic):.4f} ms\")\n",
    "# We can even use @ for dot product\n",
    "\n",
    "# 2. Using Loop method\n",
    "tic=time.time()\n",
    "c=dot(a,b)\n",
    "toc=time.time()\n",
    "print(f\"Dot product is {c:.4f}\")\n",
    "print(f\"The time taken by Loop method is {1000*(toc-tic):.4f} ms\")"
   ]
  },
  {
   "cell_type": "markdown",
   "id": "f59d27d7",
   "metadata": {},
   "source": [
    "# Matrix Creation "
   ]
  },
  {
   "cell_type": "markdown",
   "id": "f32160a6",
   "metadata": {},
   "source": [
    "For creating matrices with random zero and ones we will use (shape) inside the function parameters"
   ]
  },
  {
   "cell_type": "code",
   "execution_count": 24,
   "id": "691005e8",
   "metadata": {},
   "outputs": [
    {
     "name": "stdout",
     "output_type": "stream",
     "text": [
      "a.shape=(2, 1) and a=[[0.]\n",
      " [0.]]\n",
      "b.shape=(1, 5) and b=[[1. 1. 1. 1. 1.]]\n",
      "c.shape=(4, 2) and c=[[0.97910411 0.00475782]\n",
      " [0.7886788  0.82943347]\n",
      " [0.28204832 0.45017137]\n",
      " [0.84060644 0.70121617]]\n"
     ]
    }
   ],
   "source": [
    "a=np.zeros((2,1))\n",
    "print(f\"a.shape={a.shape} and a={a}\")\n",
    "\n",
    "b=np.ones((1,5))\n",
    "print(f\"b.shape={b.shape} and b={b}\")\n",
    "\n",
    "c=np.random.random_sample((4,2))\n",
    "print(f\"c.shape={c.shape} and c={c}\")"
   ]
  },
  {
   "cell_type": "markdown",
   "id": "8178692c",
   "metadata": {},
   "source": [
    "# Matrix Indexing"
   ]
  },
  {
   "cell_type": "code",
   "execution_count": 29,
   "id": "9b4a3326",
   "metadata": {},
   "outputs": [
    {
     "name": "stdout",
     "output_type": "stream",
     "text": [
      "a[0,1]=2\n",
      "a[1]=[4 5 6]\n",
      "a.reshape(3,2):[[1 2]\n",
      " [3 4]\n",
      " [5 6]]\n"
     ]
    }
   ],
   "source": [
    "a=np.array([[1,2,3],[4,5,6]])\n",
    "print(f\"a[0,1]={a[0,1]}\") # acess an element\n",
    "print(f\"a[1]={a[1]}\")     # acess a row\n",
    "print(f\"a.reshape(3,2):{a.reshape(3,2)}\")  #Reshaping"
   ]
  },
  {
   "cell_type": "markdown",
   "id": "e6581926",
   "metadata": {},
   "source": [
    "# Matrix Slicing "
   ]
  },
  {
   "cell_type": "code",
   "execution_count": 31,
   "id": "e2707206",
   "metadata": {},
   "outputs": [
    {
     "name": "stdout",
     "output_type": "stream",
     "text": [
      "a=[[ 0  1  2  3  4  5  6  7  8  9]\n",
      " [10 11 12 13 14 15 16 17 18 19]]\n",
      "a[0,2:7:1]=[2 3 4 5 6]\n",
      "a[:,2:7:1]=[[ 2  3  4  5  6]\n",
      " [12 13 14 15 16]]\n",
      "a[:,:]=[[ 0  1  2  3  4  5  6  7  8  9]\n",
      " [10 11 12 13 14 15 16 17 18 19]]\n",
      "a[1,:]=[10 11 12 13 14 15 16 17 18 19]\n",
      "a[1]=[10 11 12 13 14 15 16 17 18 19]\n",
      "a[0:2,2:8:2]=[[ 2  4  6]\n",
      " [12 14 16]]\n"
     ]
    }
   ],
   "source": [
    "a=np.arange(20)\n",
    "a=a.reshape(-1,10)\n",
    "# here -1 is used to auto fill the required shape value\n",
    "print(f\"a={a}\")\n",
    "print(f\"a[0,2:7:1]={a[0,2:7:1]}\") # accessing elements in one row\n",
    "print(f\"a[:,2:7:1]={a[:,2:7:1]}\") # accessing elements in all rows\n",
    "print(f\"a[:,:]={a[:,:]}\")         # accessing all elements\n",
    "print(f\"a[1,:]={a[1,:]}\")         # accessing all elements in one row\n",
    "# both are same\n",
    "print(f\"a[1]={a[1]}\")\n",
    "print(f\"a[0:2,2:8:2]={a[0:2,2:8:2]}\")\n"
   ]
  },
  {
   "cell_type": "code",
   "execution_count": null,
   "id": "d290f6b8",
   "metadata": {},
   "outputs": [],
   "source": []
  }
 ],
 "metadata": {
  "kernelspec": {
   "display_name": "Python 3 (ipykernel)",
   "language": "python",
   "name": "python3"
  },
  "language_info": {
   "codemirror_mode": {
    "name": "ipython",
    "version": 3
   },
   "file_extension": ".py",
   "mimetype": "text/x-python",
   "name": "python",
   "nbconvert_exporter": "python",
   "pygments_lexer": "ipython3",
   "version": "3.9.13"
  }
 },
 "nbformat": 4,
 "nbformat_minor": 5
}
