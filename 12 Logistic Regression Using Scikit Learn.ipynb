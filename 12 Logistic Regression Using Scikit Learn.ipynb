{
 "cells": [
  {
   "cell_type": "markdown",
   "id": "199f3f85",
   "metadata": {},
   "source": [
    "# Logistic Regression Using Scikit Learn\n"
   ]
  },
  {
   "cell_type": "code",
   "execution_count": 1,
   "id": "4e639889",
   "metadata": {},
   "outputs": [],
   "source": [
    "import numpy as np\n",
    "\n",
    "X = np.array([[0.5, 1.5], [1,1], [1.5, 0.5], [3, 0.5], [2, 2], [1, 2.5]])\n",
    "y = np.array([0, 0, 0, 1, 1, 1])"
   ]
  },
  {
   "cell_type": "markdown",
   "id": "67b1a282",
   "metadata": {},
   "source": [
    "## Fit the model\n",
    "\n",
    "The code below imports the [logistic regression model](https://scikit-learn.org/stable/modules/generated/sklearn.linear_model.LogisticRegression.html#sklearn.linear_model.LogisticRegression) from scikit-learn. You can fit this model on the training data by calling `fit` function."
   ]
  },
  {
   "cell_type": "code",
   "execution_count": 6,
   "id": "0f8d711c",
   "metadata": {},
   "outputs": [
    {
     "data": {
      "text/plain": [
       "LogisticRegression()"
      ]
     },
     "execution_count": 6,
     "metadata": {},
     "output_type": "execute_result"
    }
   ],
   "source": [
    "from sklearn.linear_model import LogisticRegression\n",
    "lr_model = LogisticRegression()\n",
    "lr_model.fit(X,y)"
   ]
  },
  {
   "cell_type": "markdown",
   "id": "be4038f8",
   "metadata": {},
   "source": [
    "## Make Predictions\n",
    "\n",
    "We can see the predictions made by this model by calling the `predict` function."
   ]
  },
  {
   "cell_type": "code",
   "execution_count": 8,
   "id": "156d5d90",
   "metadata": {},
   "outputs": [
    {
     "name": "stdout",
     "output_type": "stream",
     "text": [
      "[0 0 0 1 1 1]\n"
     ]
    }
   ],
   "source": [
    "y_predict=lr_model.predict(X)\n",
    "print(y_predict)"
   ]
  },
  {
   "cell_type": "markdown",
   "id": "c6711ae2",
   "metadata": {},
   "source": [
    "## Calculate accuracy\n",
    "\n",
    "We can calculate this accuracy of this model by calling the `score` function."
   ]
  },
  {
   "cell_type": "code",
   "execution_count": 9,
   "id": "f7667fd8",
   "metadata": {},
   "outputs": [
    {
     "name": "stdout",
     "output_type": "stream",
     "text": [
      "Accuracy on trainig set: 1.0\n"
     ]
    }
   ],
   "source": [
    "print(f\"Accuracy on trainig set: {lr_model.score(X,y)}\")"
   ]
  },
  {
   "cell_type": "code",
   "execution_count": null,
   "id": "24ebf0c6",
   "metadata": {},
   "outputs": [],
   "source": []
  }
 ],
 "metadata": {
  "kernelspec": {
   "display_name": "Python 3 (ipykernel)",
   "language": "python",
   "name": "python3"
  },
  "language_info": {
   "codemirror_mode": {
    "name": "ipython",
    "version": 3
   },
   "file_extension": ".py",
   "mimetype": "text/x-python",
   "name": "python",
   "nbconvert_exporter": "python",
   "pygments_lexer": "ipython3",
   "version": "3.9.13"
  }
 },
 "nbformat": 4,
 "nbformat_minor": 5
}
