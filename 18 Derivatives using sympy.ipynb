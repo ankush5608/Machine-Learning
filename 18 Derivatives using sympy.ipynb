{
 "cells": [
  {
   "cell_type": "markdown",
   "id": "dbadb8a6",
   "metadata": {},
   "source": [
    "# Derivatives"
   ]
  },
  {
   "cell_type": "markdown",
   "id": "55a2a15d",
   "metadata": {},
   "source": [
    "We use the sympy library of python to compute the derivatives. Derivatives are integral part of optimization algoritms which helps us finding the optimal weights and bias for the model"
   ]
  },
  {
   "cell_type": "markdown",
   "id": "c717ccfb",
   "metadata": {},
   "source": [
    "The formal definition of derivatives can be a bit daunting with limits and values 'going to zero'. The idea is really much simpler. \n",
    "\n",
    "The derivative of a function describes how the output of a function changes when there is a small change in an input variable.\n",
    "\n",
    "Let's use the cost function $J(w)$ as an example. The cost $J$ is the output and $w$ is the input variable.  \n",
    "Let's give a 'small change' a name *epsilon* or $\\epsilon$. We use these Greek letters because it is traditional in mathematics to use *epsilon*($\\epsilon$) or *delta* ($\\Delta$) to represent a small value. You can think of it as representing 0.001 or some other small value.  \n",
    "\n",
    "$$\n",
    "\\begin{equation}\n",
    "\\text{if } w \\uparrow \\epsilon \\text{ causes }J(w) \\uparrow \\text{by }k \\times \\epsilon \\text{ then}  \\\\\n",
    "\\frac{\\partial J(w)}{\\partial w} = k \\tag{1}\n",
    "\\end{equation}\n",
    "$$\n",
    "\n",
    "This just says if you change the input to the function $J(w)$ by a little bit and the output changes by $k$ times that little bit, then the derivative of $J(w)$ is equal to $k$."
   ]
  },
  {
   "cell_type": "code",
   "execution_count": 3,
   "id": "f4bf1a32",
   "metadata": {},
   "outputs": [],
   "source": [
    "import sympy"
   ]
  },
  {
   "cell_type": "code",
   "execution_count": 8,
   "id": "cd81a73b",
   "metadata": {},
   "outputs": [
    {
     "name": "stdout",
     "output_type": "stream",
     "text": [
      "j = 9 , j_epsilon = 9.006001 \n",
      "increase in j by epsilon increase = 6.001000\n"
     ]
    }
   ],
   "source": [
    "j=3**2\n",
    "j_epsilon = 3.001**2 # small change in j by  0.001\n",
    "\n",
    "# difference divided by epsilon\n",
    "t = (j_epsilon - j)/0.001\n",
    "print(f\"j = {j} , j_epsilon = {j_epsilon} \\nincrease in j by epsilon increase = {t:0.6f}\")"
   ]
  },
  {
   "cell_type": "markdown",
   "id": "9b013f12",
   "metadata": {},
   "source": [
    "We have increased the input value a little bit (0.001), causing the output to change from 9 to 9.006001, an increase of 6 times the input increase. Referencing (1) above, this says that $k=6$, so $\\frac{\\partial J(w)}{\\partial w} \\approx 6$. Using calculus,this can be written symbolically,  $\\frac{\\partial J(w)}{\\partial w} = 2 w$. With $w=3$ this is 6. Our calculation above is not exactly 6 because to be exactly correct $\\epsilon$ would need to be [infinitesimally small](https://www.dictionary.com/browse/infinitesimally) or really, really small. That is why we use the symbols $\\approx$ or ~= rather than =. Let's see what happens if we make $\\epsilon$ smaller."
   ]
  },
  {
   "cell_type": "code",
   "execution_count": 9,
   "id": "9f54aaaa",
   "metadata": {},
   "outputs": [
    {
     "name": "stdout",
     "output_type": "stream",
     "text": [
      "J = 9, J_epsilon = 9.000000006, dJ_dw ~= k = 6.000000496442226 \n"
     ]
    }
   ],
   "source": [
    "J = (3)**2\n",
    "J_epsilon = (3 + 0.000000001)**2\n",
    "k = (J_epsilon - J)/0.000000001\n",
    "print(f\"J = {J}, J_epsilon = {J_epsilon}, dJ_dw ~= k = {k} \")"
   ]
  },
  {
   "cell_type": "markdown",
   "id": "36971381",
   "metadata": {},
   "source": [
    "The value gets close to exactly 6 as we reduce the size of $\\epsilon$. Feel free to try reducing the value further."
   ]
  },
  {
   "cell_type": "markdown",
   "id": "96d7a6d8",
   "metadata": {},
   "source": [
    "## Computing derivatives using sympy\n",
    "\n",
    "### $J = w^2$\n",
    "Define the python variables and their symbolic names."
   ]
  },
  {
   "cell_type": "code",
   "execution_count": 11,
   "id": "e3132238",
   "metadata": {},
   "outputs": [],
   "source": [
    "J,w = sympy.symbols('J,w')\n"
   ]
  },
  {
   "cell_type": "code",
   "execution_count": 13,
   "id": "80c6e02b",
   "metadata": {},
   "outputs": [
    {
     "data": {
      "text/latex": [
       "$\\displaystyle w^{2}$"
      ],
      "text/plain": [
       "w**2"
      ]
     },
     "execution_count": 13,
     "metadata": {},
     "output_type": "execute_result"
    }
   ],
   "source": [
    "J = w**2\n",
    "J"
   ]
  },
  {
   "cell_type": "markdown",
   "id": "33e5c2bc",
   "metadata": {},
   "source": [
    "Use SymPy's `diff` to differentiate the expression for $J$ with respect to $w$. Note the result matches our earlier example."
   ]
  },
  {
   "cell_type": "code",
   "execution_count": 16,
   "id": "b4caaf10",
   "metadata": {},
   "outputs": [
    {
     "data": {
      "text/latex": [
       "$\\displaystyle 2 w$"
      ],
      "text/plain": [
       "2*w"
      ]
     },
     "execution_count": 16,
     "metadata": {},
     "output_type": "execute_result"
    }
   ],
   "source": [
    "dj_dw = sympy.diff(J,w)\n",
    "dj_dw"
   ]
  },
  {
   "cell_type": "markdown",
   "id": "baef5dad",
   "metadata": {},
   "source": [
    "Evaluate the derivative at a few points by 'substituting' numeric values for the symbolic values. In the first example, $w$ is replaced by $2$."
   ]
  },
  {
   "cell_type": "code",
   "execution_count": 21,
   "id": "2693da18",
   "metadata": {},
   "outputs": [
    {
     "data": {
      "text/latex": [
       "$\\displaystyle 4$"
      ],
      "text/plain": [
       "4"
      ]
     },
     "execution_count": 21,
     "metadata": {},
     "output_type": "execute_result"
    }
   ],
   "source": [
    "dj_dw.subs([(w,2)]) # derivative at the point w = 2"
   ]
  },
  {
   "cell_type": "code",
   "execution_count": 22,
   "id": "2f7af159",
   "metadata": {},
   "outputs": [
    {
     "data": {
      "text/latex": [
       "$\\displaystyle 6$"
      ],
      "text/plain": [
       "6"
      ]
     },
     "execution_count": 22,
     "metadata": {},
     "output_type": "execute_result"
    }
   ],
   "source": [
    "dj_dw.subs([(w,3)]) # derivative at the point w = 3"
   ]
  },
  {
   "cell_type": "markdown",
   "id": "0dd49e84",
   "metadata": {},
   "source": [
    "## $J = 2w$"
   ]
  },
  {
   "cell_type": "code",
   "execution_count": 23,
   "id": "c292737e",
   "metadata": {},
   "outputs": [],
   "source": [
    "J,w = sympy.symbols('J,w')"
   ]
  },
  {
   "cell_type": "code",
   "execution_count": 24,
   "id": "89eff408",
   "metadata": {},
   "outputs": [
    {
     "data": {
      "text/latex": [
       "$\\displaystyle 2 w$"
      ],
      "text/plain": [
       "2*w"
      ]
     },
     "execution_count": 24,
     "metadata": {},
     "output_type": "execute_result"
    }
   ],
   "source": [
    "J = 2*w\n",
    "J"
   ]
  },
  {
   "cell_type": "code",
   "execution_count": 26,
   "id": "d4cf4ffd",
   "metadata": {},
   "outputs": [
    {
     "data": {
      "text/latex": [
       "$\\displaystyle 2$"
      ],
      "text/plain": [
       "2"
      ]
     },
     "execution_count": 26,
     "metadata": {},
     "output_type": "execute_result"
    }
   ],
   "source": [
    "dj_dw = sympy.diff(J,w)\n",
    "dj_dw"
   ]
  },
  {
   "cell_type": "code",
   "execution_count": 27,
   "id": "0029bcb9",
   "metadata": {},
   "outputs": [
    {
     "data": {
      "text/latex": [
       "$\\displaystyle 2$"
      ],
      "text/plain": [
       "2"
      ]
     },
     "execution_count": 27,
     "metadata": {},
     "output_type": "execute_result"
    }
   ],
   "source": [
    "dj_dw.subs([(w,2)]) # derivative at the point w = 2"
   ]
  },
  {
   "cell_type": "code",
   "execution_count": 28,
   "id": "5be6a077",
   "metadata": {},
   "outputs": [
    {
     "data": {
      "text/latex": [
       "$\\displaystyle 2$"
      ],
      "text/plain": [
       "2"
      ]
     },
     "execution_count": 28,
     "metadata": {},
     "output_type": "execute_result"
    }
   ],
   "source": [
    "dj_dw.subs([(w,3)]) # derivative at the point w = 3"
   ]
  },
  {
   "cell_type": "code",
   "execution_count": 29,
   "id": "a1d05a79",
   "metadata": {},
   "outputs": [
    {
     "name": "stdout",
     "output_type": "stream",
     "text": [
      "J = 6, J_epsilon = 6.002, dJ_dw ~= k = 1.9999999999997797 \n"
     ]
    }
   ],
   "source": [
    "J = 2*3\n",
    "J_epsilon = 2*(3 + 0.001)\n",
    "k = (J_epsilon - J)/0.001\n",
    "print(f\"J = {J}, J_epsilon = {J_epsilon}, dJ_dw ~= k = {k} \")"
   ]
  },
  {
   "cell_type": "markdown",
   "id": "a557206d",
   "metadata": {},
   "source": [
    "For the function $J=2w$, it is easy to see that any change in $w$ will result in 2 times that amount of change in the output $J$, regardless of the starting value of $w$. Our NumPy and arithmetic results confirm this. "
   ]
  },
  {
   "cell_type": "markdown",
   "id": "70b2b31f",
   "metadata": {},
   "source": [
    "## $J = w^3$"
   ]
  },
  {
   "cell_type": "code",
   "execution_count": 32,
   "id": "832b9ea0",
   "metadata": {},
   "outputs": [
    {
     "data": {
      "text/latex": [
       "$\\displaystyle w^{3}$"
      ],
      "text/plain": [
       "w**3"
      ]
     },
     "execution_count": 32,
     "metadata": {},
     "output_type": "execute_result"
    }
   ],
   "source": [
    "J,w = sympy.symbols('J,w')\n",
    "J = w**3\n",
    "J"
   ]
  },
  {
   "cell_type": "code",
   "execution_count": 33,
   "id": "3a415857",
   "metadata": {},
   "outputs": [
    {
     "data": {
      "text/latex": [
       "$\\displaystyle 3 w^{2}$"
      ],
      "text/plain": [
       "3*w**2"
      ]
     },
     "execution_count": 33,
     "metadata": {},
     "output_type": "execute_result"
    }
   ],
   "source": [
    "dj_dw = sympy.diff(J,w)\n",
    "dj_dw"
   ]
  },
  {
   "cell_type": "code",
   "execution_count": 34,
   "id": "1ef3ea2e",
   "metadata": {},
   "outputs": [
    {
     "data": {
      "text/latex": [
       "$\\displaystyle 12$"
      ],
      "text/plain": [
       "12"
      ]
     },
     "execution_count": 34,
     "metadata": {},
     "output_type": "execute_result"
    }
   ],
   "source": [
    "dj_dw.subs([(w,2)])"
   ]
  },
  {
   "cell_type": "code",
   "execution_count": 35,
   "id": "521eee73",
   "metadata": {},
   "outputs": [
    {
     "name": "stdout",
     "output_type": "stream",
     "text": [
      "J = 8, J_epsilon = 8.012006000999998, dJ_dw ~= k = 12.006000999997823 \n"
     ]
    }
   ],
   "source": [
    "J = (2)**3\n",
    "J_epsilon = (2+0.001)**3\n",
    "k = (J_epsilon - J)/0.001\n",
    "print(f\"J = {J}, J_epsilon = {J_epsilon}, dJ_dw ~= k = {k} \")"
   ]
  },
  {
   "cell_type": "markdown",
   "id": "09d8bbd4",
   "metadata": {},
   "source": [
    "## $J = \\frac{1}{w}$"
   ]
  },
  {
   "cell_type": "code",
   "execution_count": 39,
   "id": "a4358e38",
   "metadata": {},
   "outputs": [
    {
     "data": {
      "text/latex": [
       "$\\displaystyle \\frac{1}{w}$"
      ],
      "text/plain": [
       "1/w"
      ]
     },
     "execution_count": 39,
     "metadata": {},
     "output_type": "execute_result"
    }
   ],
   "source": [
    "J,w = sympy.symbols('J,w')\n",
    "J = 1/w\n",
    "J"
   ]
  },
  {
   "cell_type": "code",
   "execution_count": 41,
   "id": "74f80770",
   "metadata": {},
   "outputs": [
    {
     "data": {
      "text/latex": [
       "$\\displaystyle - \\frac{1}{w^{2}}$"
      ],
      "text/plain": [
       "-1/w**2"
      ]
     },
     "execution_count": 41,
     "metadata": {},
     "output_type": "execute_result"
    }
   ],
   "source": [
    "dj_dw = sympy.diff(J,w)\n",
    "dj_dw"
   ]
  },
  {
   "cell_type": "code",
   "execution_count": 43,
   "id": "4425046b",
   "metadata": {},
   "outputs": [
    {
     "data": {
      "text/latex": [
       "$\\displaystyle - \\frac{1}{4}$"
      ],
      "text/plain": [
       "-1/4"
      ]
     },
     "execution_count": 43,
     "metadata": {},
     "output_type": "execute_result"
    }
   ],
   "source": [
    "dj_dw.subs([(w,2)])"
   ]
  },
  {
   "cell_type": "code",
   "execution_count": 44,
   "id": "391bc094",
   "metadata": {},
   "outputs": [
    {
     "name": "stdout",
     "output_type": "stream",
     "text": [
      "J = 0.5, J_epsilon = 0.49975012493753124, dJ_dw ~= k = -0.2498750624687629 \n"
     ]
    }
   ],
   "source": [
    "J = 1/2\n",
    "J_epsilon = 1/(2+0.001)\n",
    "k = (J_epsilon - J)/0.001\n",
    "print(f\"J = {J}, J_epsilon = {J_epsilon}, dJ_dw ~= k = {k} \")"
   ]
  },
  {
   "cell_type": "markdown",
   "id": "6ef52156",
   "metadata": {},
   "source": [
    "## $J = \\frac{1}{w^2}$"
   ]
  },
  {
   "cell_type": "code",
   "execution_count": 45,
   "id": "f551e4ac",
   "metadata": {},
   "outputs": [
    {
     "data": {
      "text/latex": [
       "$\\displaystyle \\frac{1}{w^{2}}$"
      ],
      "text/plain": [
       "w**(-2)"
      ]
     },
     "execution_count": 45,
     "metadata": {},
     "output_type": "execute_result"
    }
   ],
   "source": [
    "J,w = sympy.symbols('J,w')\n",
    "J= 1/w**2\n",
    "J"
   ]
  },
  {
   "cell_type": "code",
   "execution_count": 47,
   "id": "f197ad96",
   "metadata": {},
   "outputs": [
    {
     "data": {
      "text/latex": [
       "$\\displaystyle - \\frac{2}{w^{3}}$"
      ],
      "text/plain": [
       "-2/w**3"
      ]
     },
     "execution_count": 47,
     "metadata": {},
     "output_type": "execute_result"
    }
   ],
   "source": [
    "dj_dw = sympy.diff(J,w)\n",
    "dj_dw"
   ]
  },
  {
   "cell_type": "code",
   "execution_count": 48,
   "id": "6cdd7200",
   "metadata": {},
   "outputs": [
    {
     "data": {
      "text/latex": [
       "$\\displaystyle - \\frac{1}{4}$"
      ],
      "text/plain": [
       "-1/4"
      ]
     },
     "execution_count": 48,
     "metadata": {},
     "output_type": "execute_result"
    }
   ],
   "source": [
    "dj_dw.subs([(w,2)])"
   ]
  },
  {
   "cell_type": "code",
   "execution_count": 49,
   "id": "943c17ad",
   "metadata": {},
   "outputs": [
    {
     "name": "stdout",
     "output_type": "stream",
     "text": [
      "J = 0.0625, J_epsilon = 0.06246876171484496, dJ_dw ~= k = -0.031238285155041345 \n"
     ]
    }
   ],
   "source": [
    "J = 1/4**2\n",
    "J_epsilon = 1/(4+0.001)**2\n",
    "k = (J_epsilon - J)/0.001\n",
    "print(f\"J = {J}, J_epsilon = {J_epsilon}, dJ_dw ~= k = {k} \")"
   ]
  },
  {
   "cell_type": "code",
   "execution_count": null,
   "id": "54e8d1ff",
   "metadata": {},
   "outputs": [],
   "source": []
  }
 ],
 "metadata": {
  "kernelspec": {
   "display_name": "Python 3 (ipykernel)",
   "language": "python",
   "name": "python3"
  },
  "language_info": {
   "codemirror_mode": {
    "name": "ipython",
    "version": 3
   },
   "file_extension": ".py",
   "mimetype": "text/x-python",
   "name": "python",
   "nbconvert_exporter": "python",
   "pygments_lexer": "ipython3",
   "version": "3.11.5"
  }
 },
 "nbformat": 4,
 "nbformat_minor": 5
}
